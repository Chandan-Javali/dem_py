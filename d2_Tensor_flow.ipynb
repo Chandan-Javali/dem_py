{
  "nbformat": 4,
  "nbformat_minor": 0,
  "metadata": {
    "colab": {
      "provenance": [],
      "authorship_tag": "ABX9TyOKpyjt/t+fHsprKRjfY2GK",
      "include_colab_link": true
    },
    "kernelspec": {
      "name": "python3",
      "display_name": "Python 3"
    },
    "language_info": {
      "name": "python"
    }
  },
  "cells": [
    {
      "cell_type": "markdown",
      "metadata": {
        "id": "view-in-github",
        "colab_type": "text"
      },
      "source": [
        "<a href=\"https://colab.research.google.com/github/Chandan-Javali/dem_py/blob/main/d2_Tensor_flow.ipynb\" target=\"_parent\"><img src=\"https://colab.research.google.com/assets/colab-badge.svg\" alt=\"Open In Colab\"/></a>"
      ]
    },
    {
      "cell_type": "code",
      "execution_count": null,
      "metadata": {
        "colab": {
          "base_uri": "https://localhost:8080/"
        },
        "id": "PPxyEMq1rl4s",
        "outputId": "45bc43e7-2bac-433a-e82c-575e8c74dbee"
      },
      "outputs": [
        {
          "output_type": "stream",
          "name": "stdout",
          "text": [
            "Hello this is TensorFlow\n"
          ]
        }
      ],
      "source": [
        "# prompt: iimport tensor flow and print hello this is tensor flow\n",
        "\n",
        "import tensorflow as tf\n",
        "\n",
        "print(\"Hello this is TensorFlow\")\n"
      ]
    },
    {
      "cell_type": "code",
      "source": [
        "import tensorflow as tf\n",
        "hi=tf.constant(\"Hello this is Tensor flow\")\n",
        "print(hi.numpy().decode('utf-8'))\n"
      ],
      "metadata": {
        "colab": {
          "base_uri": "https://localhost:8080/"
        },
        "id": "nwJ7Fadbry38",
        "outputId": "78be34da-dd28-4c86-f3fd-45894e1b2c5d"
      },
      "execution_count": null,
      "outputs": [
        {
          "output_type": "stream",
          "name": "stdout",
          "text": [
            "Hello this is Tensor flow\n"
          ]
        }
      ]
    },
    {
      "cell_type": "code",
      "source": [
        "import tensorflow as tf\n",
        "a=tf.constant(10)\n",
        "b=tf.constant(20)\n",
        "print(a+b)"
      ],
      "metadata": {
        "colab": {
          "base_uri": "https://localhost:8080/"
        },
        "id": "ATwr2Zz-sOb2",
        "outputId": "33e3e7c3-4c16-4845-e0c5-0bfc4b8ab6a4"
      },
      "execution_count": null,
      "outputs": [
        {
          "output_type": "stream",
          "name": "stdout",
          "text": [
            "tf.Tensor(30, shape=(), dtype=int32)\n"
          ]
        }
      ]
    },
    {
      "cell_type": "code",
      "source": [
        "add=tf.add(a,b)\n",
        "print(\"sum of a and b is :\", add )"
      ],
      "metadata": {
        "colab": {
          "base_uri": "https://localhost:8080/"
        },
        "id": "W76_B6gEsrhq",
        "outputId": "2eafc501-e207-4289-9322-8a1967a911af"
      },
      "execution_count": null,
      "outputs": [
        {
          "output_type": "stream",
          "name": "stdout",
          "text": [
            "sum of a and b is : tf.Tensor(30, shape=(), dtype=int32)\n"
          ]
        }
      ]
    },
    {
      "cell_type": "code",
      "source": [
        "sub=tf.subtract(a,b)\n",
        "print(\"sub of a and b is :\", sub )"
      ],
      "metadata": {
        "colab": {
          "base_uri": "https://localhost:8080/"
        },
        "id": "Aodt-ffJs5iD",
        "outputId": "dd22449e-5904-43fb-b24f-37dba98adb85"
      },
      "execution_count": null,
      "outputs": [
        {
          "output_type": "stream",
          "name": "stdout",
          "text": [
            "sub of a and b is : tf.Tensor(-10, shape=(), dtype=int32)\n"
          ]
        }
      ]
    },
    {
      "cell_type": "code",
      "source": [
        "mul=tf.multiply(a,b)\n",
        "print(\"mul of a and b is :\", mul )"
      ],
      "metadata": {
        "colab": {
          "base_uri": "https://localhost:8080/"
        },
        "id": "Ksl257VptUmn",
        "outputId": "90e928e0-7942-4847-dc4e-5d4b556e3f2e"
      },
      "execution_count": null,
      "outputs": [
        {
          "output_type": "stream",
          "name": "stdout",
          "text": [
            "mul of a and b is : tf.Tensor(200, shape=(), dtype=int32)\n"
          ]
        }
      ]
    },
    {
      "cell_type": "code",
      "source": [
        "# prompt: perform matrices operation using tensorflow\n",
        "\n",
        "import tensorflow as tf\n",
        "\n",
        "# Define two matrices\n",
        "matrix1 = tf.constant([[1, 2], [3, 4]])\n",
        "matrix2 = tf.constant([[5, 6], [7, 8]])\n",
        "\n",
        "# Addition\n",
        "matrix_sum = tf.add(matrix1, matrix2)\n",
        "print(\"Matrix Sum:\\n\", matrix_sum.numpy())\n",
        "\n",
        "# Subtraction\n",
        "matrix_diff = tf.subtract(matrix1, matrix2)\n",
        "print(\"Matrix Difference:\\n\", matrix_diff.numpy())\n",
        "\n",
        "\n",
        "# Multiplication (element-wise)\n",
        "matrix_product_elementwise = tf.multiply(matrix1, matrix2)\n",
        "print(\"Element-wise Matrix Product:\\n\", matrix_product_elementwise.numpy())\n",
        "\n",
        "# Matrix Multiplication (dot product)\n",
        "matrix_product = tf.matmul(matrix1, matrix2)\n",
        "print(\"Matrix Product (dot product):\\n\", matrix_product.numpy())\n",
        "\n",
        "\n"
      ],
      "metadata": {
        "colab": {
          "base_uri": "https://localhost:8080/"
        },
        "id": "8E27xvPlt1aP",
        "outputId": "c8bc4ac2-12e9-46c8-fc07-8a39f67bd50e"
      },
      "execution_count": null,
      "outputs": [
        {
          "output_type": "stream",
          "name": "stdout",
          "text": [
            "Matrix Sum:\n",
            " [[ 6  8]\n",
            " [10 12]]\n",
            "Matrix Difference:\n",
            " [[-4 -4]\n",
            " [-4 -4]]\n",
            "Element-wise Matrix Product:\n",
            " [[ 5 12]\n",
            " [21 32]]\n",
            "Matrix Product (dot product):\n",
            " [[19 22]\n",
            " [43 50]]\n"
          ]
        }
      ]
    },
    {
      "cell_type": "code",
      "source": [
        "import tensorflow as tf\n",
        "import numpy as np\n",
        "#generate sample data like(y=2x)\n",
        "X=np.array([1,2,3,4,5], dtype=np.float32)\n",
        "Y=np.array([2,4,6,8,10], dtype=np.float32)"
      ],
      "metadata": {
        "id": "Uy1H5txPu8op"
      },
      "execution_count": null,
      "outputs": []
    },
    {
      "cell_type": "code",
      "source": [],
      "metadata": {
        "id": "6CYe59Ej0LBE"
      },
      "execution_count": null,
      "outputs": []
    },
    {
      "cell_type": "code",
      "source": [],
      "metadata": {
        "id": "7DtxDapY0NHZ"
      },
      "execution_count": null,
      "outputs": []
    },
    {
      "cell_type": "code",
      "source": [
        "import tensorflow as tf\n",
        "from tensorflow import keras\n",
        "import numpy as np\n",
        "import matplotlib.pyplot as plt\n",
        "\n",
        "# Load the MNIST dataset\n",
        "mnist = keras.datasets.mnist\n",
        "(x_train, y_train), (x_test, y_test) = mnist.load_data()\n",
        "\n",
        "# Normalize the data to scale pixel values between 0 and 1\n",
        "x_train, x_test = x_train / 255.0, x_test / 255.0\n",
        "\n",
        "# Define the neural network model\n",
        "model = keras.Sequential([\n",
        "    keras.layers.Flatten(input_shape=(28, 28)),  # Input layer (Flattening 28x28 images to 1D array)\n",
        "    keras.layers.Dense(128, activation='relu'),   # Hidden layer with 128 neurons and ReLU activation\n",
        "    keras.layers.Dense(10, activation='softmax')  # Output layer with 10 neurons for 10 classes (0-9)\n",
        "])\n",
        "\n",
        "# Compile the model\n",
        "model.compile(optimizer='adam',\n",
        "              loss='sparse_categorical_crossentropy',\n",
        "              metrics=['accuracy'])\n",
        "\n",
        "# Train the model\n",
        "model.fit(x_train, y_train, epochs=5)\n",
        "\n",
        "# Evaluate the model\n",
        "test_loss, test_acc = model.evaluate(x_test, y_test, verbose=2)\n",
        "print('\\nTest accuracy:', test_acc)\n"
      ],
      "metadata": {
        "colab": {
          "base_uri": "https://localhost:8080/"
        },
        "id": "AN7WcPXe0OmH",
        "outputId": "3d2661e3-b45e-427a-df5e-1d815250b7cf"
      },
      "execution_count": null,
      "outputs": [
        {
          "output_type": "stream",
          "name": "stdout",
          "text": [
            "Epoch 1/5\n",
            "\u001b[1m1875/1875\u001b[0m \u001b[32m━━━━━━━━━━━━━━━━━━━━\u001b[0m\u001b[37m\u001b[0m \u001b[1m9s\u001b[0m 4ms/step - accuracy: 0.8797 - loss: 0.4258\n",
            "Epoch 2/5\n",
            "\u001b[1m1875/1875\u001b[0m \u001b[32m━━━━━━━━━━━━━━━━━━━━\u001b[0m\u001b[37m\u001b[0m \u001b[1m12s\u001b[0m 5ms/step - accuracy: 0.9637 - loss: 0.1210\n",
            "Epoch 3/5\n",
            "\u001b[1m1875/1875\u001b[0m \u001b[32m━━━━━━━━━━━━━━━━━━━━\u001b[0m\u001b[37m\u001b[0m \u001b[1m8s\u001b[0m 4ms/step - accuracy: 0.9773 - loss: 0.0768\n",
            "Epoch 4/5\n",
            "\u001b[1m1875/1875\u001b[0m \u001b[32m━━━━━━━━━━━━━━━━━━━━\u001b[0m\u001b[37m\u001b[0m \u001b[1m9s\u001b[0m 4ms/step - accuracy: 0.9830 - loss: 0.0560\n",
            "Epoch 5/5\n",
            "\u001b[1m1875/1875\u001b[0m \u001b[32m━━━━━━━━━━━━━━━━━━━━\u001b[0m\u001b[37m\u001b[0m \u001b[1m8s\u001b[0m 4ms/step - accuracy: 0.9873 - loss: 0.0418\n",
            "313/313 - 1s - 3ms/step - accuracy: 0.9769 - loss: 0.0766\n",
            "\n",
            "Test accuracy: 0.9768999814987183\n"
          ]
        }
      ]
    },
    {
      "cell_type": "code",
      "source": [
        "# prompt: implement a simple neural network concept using tesorflow\n",
        "\n",
        "import matplotlib.pyplot as plt\n",
        "import numpy as np\n",
        "# Predict the digit for a specific image\n",
        "predictions = model.predict(x_test)\n",
        "print(predictions[0])\n",
        "\n",
        "# Get the predicted digit with the highest probability\n",
        "predicted_digit = np.argmax(predictions[0])\n",
        "print(f\"Predicted digit: {predicted_digit}\")\n",
        "\n",
        "# Display the actual and predicted digits for the first few images\n",
        "plt.figure(figsize=(10, 5))\n",
        "for i in range(10):\n",
        "    plt.subplot(2, 5, i + 1)\n",
        "    plt.imshow(x_test[i], cmap='gray')\n",
        "    plt.title(f\"Actual: {y_test[i]}\\nPredicted: {np.argmax(predictions[i])}\")\n",
        "    plt.axis('off')\n",
        "plt.show()\n"
      ],
      "metadata": {
        "colab": {
          "base_uri": "https://localhost:8080/",
          "height": 492
        },
        "id": "-9P_qBbp0Qnp",
        "outputId": "ce6f2b15-2967-4e30-d944-2c4c4b5d7ff3"
      },
      "execution_count": null,
      "outputs": [
        {
          "output_type": "stream",
          "name": "stdout",
          "text": [
            "\u001b[1m313/313\u001b[0m \u001b[32m━━━━━━━━━━━━━━━━━━━━\u001b[0m\u001b[37m\u001b[0m \u001b[1m1s\u001b[0m 2ms/step\n",
            "[1.0556000e-06 2.1208084e-08 1.0645603e-04 7.8417151e-04 5.7188014e-09\n",
            " 8.3219859e-08 1.7046479e-11 9.9895620e-01 2.1422481e-06 1.4981827e-04]\n",
            "Predicted digit: 7\n"
          ]
        },
        {
          "output_type": "display_data",
          "data": {
            "text/plain": [
              "<Figure size 1000x500 with 10 Axes>"
            ],
            "image/png": "[encoded data removed]"
          },
          "metadata": {}
        }
      ]
    },
    {
      "cell_type": "code",
      "source": [
        "# prompt: import matplotlib , tensorflow, load mnist in the program\n",
        "\n",
        "import tensorflow as tf\n",
        "import numpy as np\n",
        "from tensorflow import keras\n",
        "import matplotlib.pyplot as plt\n",
        "\n",
        "# Load the MNIST dataset\n",
        "mnist = keras.datasets.mnist\n",
        "(x_train, y_train), (x_test, y_test) = mnist.load_data()\n",
        "\n",
        "# Normalize the data to scale pixel values between 0 and 1\n",
        "x_train, x_test = x_train / 255.0, x_test / 255.0\n",
        "\n",
        "# Define the neural network model\n",
        "model = keras.Sequential([\n",
        "    keras.layers.Flatten(input_shape=(28, 28)),  # Input layer (Flattening 28x28 images to 1D array)\n",
        "    keras.layers.Dense(128, activation='relu'),   # Hidden layer with 128 neurons and ReLU activation\n",
        "    keras.layers.Dense(10, activation='softmax')  # Output layer with 10 neurons for 10 classes (0-9)\n",
        "])\n",
        "\n",
        "# Compile the model\n",
        "model.compile(optimizer='adam',\n",
        "              loss='sparse_categorical_crossentropy',\n",
        "              metrics=['accuracy'])\n",
        "\n",
        "# Train the model\n",
        "model.fit(x_train, y_train, epochs=5)\n",
        "\n",
        "# Evaluate the model\n",
        "test_loss, test_acc = model.evaluate(x_test, y_test, verbose=2)\n",
        "print('\\nTest accuracy:', test_acc)\n",
        "\n",
        "\n",
        "# Predict the digit for a specific image\n",
        "predictions = model.predict(x_test)\n",
        "print(predictions[0])\n",
        "\n",
        "# Get the predicted digit with the highest probability\n",
        "predicted_digit = np.argmax(predictions[0])\n",
        "print(f\"Predicted digit: {predicted_digit}\")\n",
        "\n",
        "# Display the actual and predicted digits for the first few images\n",
        "plt.figure(figsize=(10, 5))\n",
        "for i in range(10):\n",
        "    plt.subplot(2, 5, i + 1)\n",
        "    plt.imshow(x_test[i], cmap='gray')\n",
        "    plt.title(f\"Actual: {y_test[i]}\\nPredicted: {np.argmax(predictions[i])}\")\n",
        "    plt.axis('off')\n",
        "plt.show()\n"
      ],
      "metadata": {
        "colab": {
          "base_uri": "https://localhost:8080/",
          "height": 718
        },
        "id": "B4gwJjy00r_3",
        "outputId": "d5b573c1-b89c-4ffe-93f8-73b562e982f6"
      },
      "execution_count": null,
      "outputs": [
        {
          "output_type": "stream",
          "name": "stdout",
          "text": [
            "Epoch 1/5\n",
            "\u001b[1m1875/1875\u001b[0m \u001b[32m━━━━━━━━━━━━━━━━━━━━\u001b[0m\u001b[37m\u001b[0m \u001b[1m9s\u001b[0m 4ms/step - accuracy: 0.8788 - loss: 0.4320\n",
            "Epoch 2/5\n",
            "\u001b[1m1875/1875\u001b[0m \u001b[32m━━━━━━━━━━━━━━━━━━━━\u001b[0m\u001b[37m\u001b[0m \u001b[1m11s\u001b[0m 5ms/step - accuracy: 0.9639 - loss: 0.1245\n",
            "Epoch 3/5\n",
            "\u001b[1m1875/1875\u001b[0m \u001b[32m━━━━━━━━━━━━━━━━━━━━\u001b[0m\u001b[37m\u001b[0m \u001b[1m10s\u001b[0m 4ms/step - accuracy: 0.9762 - loss: 0.0792\n",
            "Epoch 4/5\n",
            "\u001b[1m1875/1875\u001b[0m \u001b[32m━━━━━━━━━━━━━━━━━━━━\u001b[0m\u001b[37m\u001b[0m \u001b[1m9s\u001b[0m 5ms/step - accuracy: 0.9827 - loss: 0.0596\n",
            "Epoch 5/5\n",
            "\u001b[1m1875/1875\u001b[0m \u001b[32m━━━━━━━━━━━━━━━━━━━━\u001b[0m\u001b[37m\u001b[0m \u001b[1m9s\u001b[0m 4ms/step - accuracy: 0.9876 - loss: 0.0425\n",
            "313/313 - 1s - 4ms/step - accuracy: 0.9751 - loss: 0.0788\n",
            "\n",
            "Test accuracy: 0.9750999808311462\n",
            "\u001b[1m313/313\u001b[0m \u001b[32m━━━━━━━━━━━━━━━━━━━━\u001b[0m\u001b[37m\u001b[0m \u001b[1m1s\u001b[0m 2ms/step\n",
            "[1.0556000e-06 2.1208084e-08 1.0645603e-04 7.8417151e-04 5.7188014e-09\n",
            " 8.3219859e-08 1.7046479e-11 9.9895620e-01 2.1422481e-06 1.4981827e-04]\n",
            "Predicted digit: 7\n"
          ]
        },
        {
          "output_type": "display_data",
          "data": {
            "text/plain": [
              "<Figure size 1000x500 with 10 Axes>"
            ],
            "image/png": "[encoded data removed]"
          },
          "metadata": {}
        }
      ]
    },
    {
      "cell_type": "code",
      "source": [],
      "metadata": {
        "id": "EwLn41PG2aW2"
      },
      "execution_count": null,
      "outputs": []
    }
  ]
}